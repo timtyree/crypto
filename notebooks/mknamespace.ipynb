{
 "cells": [
  {
   "cell_type": "code",
   "execution_count": 18,
   "metadata": {
    "ExecuteTime": {
     "end_time": "2021-02-21T01:26:01.941071Z",
     "start_time": "2021-02-21T01:26:01.817962Z"
    }
   },
   "outputs": [
    {
     "name": "stdout",
     "output_type": "stream",
     "text": [
      "mkdir: Data: File exists\r\n",
      "mkdir: Figures: File exists\r\n"
     ]
    }
   ],
   "source": [
    "#make my namespace\n",
    "!mkdir lib Data Figures"
   ]
  },
  {
   "cell_type": "code",
   "execution_count": 19,
   "metadata": {
    "ExecuteTime": {
     "end_time": "2021-02-21T01:26:02.851107Z",
     "start_time": "2021-02-21T01:26:02.724734Z"
    }
   },
   "outputs": [],
   "source": [
    "mkdir lib/model lib/viewer lib/controller lib/utils lib/measures lib/routines"
   ]
  },
  {
   "cell_type": "code",
   "execution_count": 21,
   "metadata": {
    "ExecuteTime": {
     "end_time": "2021-02-21T01:26:16.036111Z",
     "start_time": "2021-02-21T01:26:15.909071Z"
    }
   },
   "outputs": [],
   "source": [
    "!touch lib/model/__init__.py lib/viewer/__init__.py lib/controller/__init__.py lib/utils/__init__.py lib/measures/__init__.py lib/routines/__init__.py\n"
   ]
  },
  {
   "cell_type": "code",
   "execution_count": 24,
   "metadata": {
    "ExecuteTime": {
     "end_time": "2021-02-21T01:26:30.141462Z",
     "start_time": "2021-02-21T01:26:30.020067Z"
    }
   },
   "outputs": [],
   "source": [
    "!touch lib/__init__.py"
   ]
  },
  {
   "cell_type": "code",
   "execution_count": 25,
   "metadata": {
    "ExecuteTime": {
     "end_time": "2021-02-21T01:26:34.570496Z",
     "start_time": "2021-02-21T01:26:34.443524Z"
    }
   },
   "outputs": [
    {
     "name": "stdout",
     "output_type": "stream",
     "text": [
      "__init__.py \u001b[34mmeasures\u001b[m\u001b[m    \u001b[34mroutines\u001b[m\u001b[m    \u001b[34mviewer\u001b[m\u001b[m\r\n",
      "\u001b[34mcontroller\u001b[m\u001b[m  \u001b[34mmodel\u001b[m\u001b[m       \u001b[34mutils\u001b[m\u001b[m\r\n"
     ]
    }
   ],
   "source": [
    "!ls lib"
   ]
  },
  {
   "cell_type": "code",
   "execution_count": 29,
   "metadata": {
    "ExecuteTime": {
     "end_time": "2021-02-21T22:23:16.373840Z",
     "start_time": "2021-02-21T22:23:16.343406Z"
    }
   },
   "outputs": [],
   "source": [
    "from lib import *\n",
    "import numpy as np, pandas as pd, matplotlib.pyplot as plt#, scipy.io as sio\n"
   ]
  },
  {
   "cell_type": "code",
   "execution_count": 30,
   "metadata": {
    "ExecuteTime": {
     "end_time": "2021-02-21T22:23:38.936490Z",
     "start_time": "2021-02-21T22:23:26.154947Z"
    }
   },
   "outputs": [],
   "source": [
    "from lib.getterdone import *"
   ]
  },
  {
   "cell_type": "code",
   "execution_count": null,
   "metadata": {},
   "outputs": [],
   "source": []
  }
 ],
 "metadata": {
  "kernelspec": {
   "display_name": "Python 3",
   "language": "python",
   "name": "python3"
  },
  "language_info": {
   "codemirror_mode": {
    "name": "ipython",
    "version": 3
   },
   "file_extension": ".py",
   "mimetype": "text/x-python",
   "name": "python",
   "nbconvert_exporter": "python",
   "pygments_lexer": "ipython3",
   "version": "3.8.7"
  },
  "varInspector": {
   "cols": {
    "lenName": 16,
    "lenType": 16,
    "lenVar": 40
   },
   "kernels_config": {
    "python": {
     "delete_cmd_postfix": "",
     "delete_cmd_prefix": "del ",
     "library": "var_list.py",
     "varRefreshCmd": "print(var_dic_list())"
    },
    "r": {
     "delete_cmd_postfix": ") ",
     "delete_cmd_prefix": "rm(",
     "library": "var_list.r",
     "varRefreshCmd": "cat(var_dic_list()) "
    }
   },
   "types_to_exclude": [
    "module",
    "function",
    "builtin_function_or_method",
    "instance",
    "_Feature"
   ],
   "window_display": false
  }
 },
 "nbformat": 4,
 "nbformat_minor": 4
}
